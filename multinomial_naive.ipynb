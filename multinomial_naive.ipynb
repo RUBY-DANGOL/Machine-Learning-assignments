{
 "cells": [
  {
   "cell_type": "code",
   "execution_count": 24,
   "id": "c19ee269",
   "metadata": {},
   "outputs": [],
   "source": [
    "import pandas as pd\n",
    "import numpy as np\n",
    "import matplotlib.pyplot as plt"
   ]
  },
  {
   "cell_type": "code",
   "execution_count": 3,
   "id": "0fcb6d05",
   "metadata": {},
   "outputs": [],
   "source": [
    "df = pd.read_csv('Breast_cancer_data.csv')"
   ]
  },
  {
   "cell_type": "code",
   "execution_count": null,
   "id": "86975185",
   "metadata": {},
   "outputs": [],
   "source": [
    "features = df.columns[:-1]  # All except the diagnosis column\n",
    "for col in features:\n",
    "    df[col] = pd.cut(df[col], bins=5, labels=False)"
   ]
  },
  {
   "cell_type": "code",
   "execution_count": null,
   "id": "422d2bac",
   "metadata": {},
   "outputs": [],
   "source": [
    "df = df.sample(frac=1, random_state=42).reset_index(drop=True)  # Shuffle the data\n",
    "split_index = int(0.8 * len(df))\n",
    "train_df = df[:split_index]\n",
    "test_df = df[split_index:]"
   ]
  },
  {
   "cell_type": "code",
   "execution_count": null,
   "id": "4b4315c8",
   "metadata": {},
   "outputs": [],
   "source": [
    "X_train = train_df.iloc[:, :-1].values\n",
    "y_train = train_df.iloc[:, -1].values\n",
    "X_test = test_df.iloc[:, :-1].values\n",
    "y_test = test_df.iloc[:, -1].values"
   ]
  },
  {
   "cell_type": "code",
   "execution_count": 14,
   "id": "1aaf18c2",
   "metadata": {},
   "outputs": [],
   "source": [
    "class MultinomialNB:\n",
    "    def fit(self, X, y):\n",
    "        self.classes = np.unique(y)\n",
    "        self.feature_count = X.shape[1]\n",
    "        self.class_priors = {}\n",
    "        self.feature_probs = {}\n",
    "\n",
    "        for c in self.classes:\n",
    "            X_c = X[y == c]\n",
    "            self.class_priors[c] = len(X_c) / len(X)\n",
    "\n",
    "            feature_count = np.zeros((self.feature_count, np.max(X) + 1))\n",
    "            for i in range(self.feature_count):\n",
    "                values, counts = np.unique(X_c[:, i], return_counts=True)\n",
    "                for v, count in zip(values, counts):\n",
    "                    feature_count[i, v] = count\n",
    "\n",
    "            # Laplace smoothing\n",
    "            smoothed = feature_count + 1\n",
    "            probs = smoothed / smoothed.sum(axis=1, keepdims=True)\n",
    "            self.feature_probs[c] = probs\n",
    "\n",
    "    def predict(self, X):\n",
    "        preds = []\n",
    "        for x in X:\n",
    "            class_scores = {}\n",
    "            for c in self.classes:\n",
    "                log_prob = np.log(self.class_priors[c])\n",
    "                for i in range(self.feature_count):\n",
    "                    val = x[i]\n",
    "                    prob = self.feature_probs[c][i][val]\n",
    "                    log_prob += np.log(prob)\n",
    "                class_scores[c] = log_prob\n",
    "            preds.append(max(class_scores, key=class_scores.get))\n",
    "        return np.array(preds)"
   ]
  },
  {
   "cell_type": "code",
   "execution_count": 15,
   "id": "d8f7135c",
   "metadata": {},
   "outputs": [],
   "source": [
    "# Train and evaluate\n",
    "model = MultinomialNB()\n",
    "model.fit(X_train, y_train)\n",
    "preds = model.predict(X_test)"
   ]
  },
  {
   "cell_type": "code",
   "execution_count": 16,
   "id": "73d4a838",
   "metadata": {},
   "outputs": [
    {
     "name": "stdout",
     "output_type": "stream",
     "text": [
      "Test Accuracy: 83.33%\n"
     ]
    }
   ],
   "source": [
    "accuracy = (preds == y_test).mean()\n",
    "print(f\"Test Accuracy: {accuracy * 100:.2f}%\")"
   ]
  },
  {
   "cell_type": "code",
   "execution_count": 17,
   "id": "099717a3",
   "metadata": {},
   "outputs": [],
   "source": [
    "train_preds = model.predict(X_train)\n",
    "test_preds = model.predict(X_test)"
   ]
  },
  {
   "cell_type": "code",
   "execution_count": 18,
   "id": "b64f8fae",
   "metadata": {},
   "outputs": [
    {
     "name": "stdout",
     "output_type": "stream",
     "text": [
      "Train Accuracy: 91.21%\n",
      "Test Accuracy:  83.33%\n"
     ]
    }
   ],
   "source": [
    "train_acc = (train_preds == y_train).mean()\n",
    "test_acc = (test_preds == y_test).mean()\n",
    "\n",
    "print(f\"Train Accuracy: {train_acc * 100:.2f}%\")\n",
    "print(f\"Test Accuracy:  {test_acc * 100:.2f}%\")"
   ]
  },
  {
   "cell_type": "code",
   "execution_count": 20,
   "id": "30926a48",
   "metadata": {},
   "outputs": [],
   "source": [
    "def classification_report(y_true, y_pred):\n",
    "    cm = confusion_matrix(y_true, y_pred)\n",
    "    report = {}\n",
    "    for cls in cm.index:\n",
    "        TP = cm.loc[cls, cls]\n",
    "        FP = cm[cls].sum() - TP\n",
    "        FN = cm.loc[cls].sum() - TP\n",
    "        precision = TP / (TP + FP) if (TP + FP) else 0\n",
    "        recall = TP / (TP + FN) if (TP + FN) else 0\n",
    "        f1 = 2 * precision * recall / (precision + recall) if (precision + recall) else 0\n",
    "        report[cls] = {\"precision\": precision, \"recall\": recall, \"f1\": f1}\n",
    "    return pd.DataFrame(report).T"
   ]
  },
  {
   "cell_type": "code",
   "execution_count": 21,
   "id": "bd765350",
   "metadata": {},
   "outputs": [
    {
     "name": "stdout",
     "output_type": "stream",
     "text": [
      "\n",
      "Confusion Matrix (Test):\n",
      "    0   1\n",
      "0  31  16\n",
      "1   3  64\n"
     ]
    }
   ],
   "source": [
    "print(\"\\nConfusion Matrix (Test):\")\n",
    "print(confusion_matrix(y_test, test_preds))"
   ]
  },
  {
   "cell_type": "code",
   "execution_count": 22,
   "id": "9cdc7ed1",
   "metadata": {},
   "outputs": [
    {
     "name": "stdout",
     "output_type": "stream",
     "text": [
      "\n",
      "Classification Report (Test):\n",
      "   precision    recall        f1\n",
      "0   0.911765  0.659574  0.765432\n",
      "1   0.800000  0.955224  0.870748\n"
     ]
    }
   ],
   "source": [
    "print(\"\\nClassification Report (Test):\")\n",
    "print(classification_report(y_test, test_preds))"
   ]
  },
  {
   "cell_type": "code",
   "execution_count": 25,
   "id": "f0a6e5fa",
   "metadata": {},
   "outputs": [
    {
     "data": {
      "text/plain": [
       "Text(0, 0.5, 'Accuracy')"
      ]
     },
     "execution_count": 25,
     "metadata": {},
     "output_type": "execute_result"
    },
    {
     "data": {
      "image/png": "[encoded data removed]",
      "text/plain": [
       "<Figure size 640x480 with 1 Axes>"
      ]
     },
     "metadata": {},
     "output_type": "display_data"
    }
   ],
   "source": [
    "plt.subplot(1, 2, 2)\n",
    "plt.bar([\"Train\", \"Test\"], [train_acc, test_acc], color=[\"skyblue\", \"salmon\"])\n",
    "plt.title(\"Accuracy Comparison\")\n",
    "plt.ylim(0, 1)\n",
    "plt.ylabel(\"Accuracy\")"
   ]
  },
  {
   "cell_type": "code",
   "execution_count": 26,
   "id": "a9864033",
   "metadata": {},
   "outputs": [
    {
     "data": {
      "image/png": "[encoded data removed]",
      "text/plain": [
       "<Figure size 600x500 with 2 Axes>"
      ]
     },
     "metadata": {},
     "output_type": "display_data"
    }
   ],
   "source": [
    "def confusion_matrix(y_true, y_pred):\n",
    "    classes = np.unique(np.concatenate((y_true, y_pred)))\n",
    "    matrix = pd.DataFrame(0, index=classes, columns=classes)\n",
    "    for true, pred in zip(y_true, y_pred):\n",
    "        matrix.loc[true, pred] += 1\n",
    "    return matrix\n",
    "\n",
    "# Compute and plot\n",
    "cm = confusion_matrix(y_test, test_preds)\n",
    "\n",
    "# Plot as heatmap\n",
    "plt.figure(figsize=(6, 5))\n",
    "plt.imshow(cm, cmap='Blues')\n",
    "\n",
    "# Axis labels\n",
    "plt.xticks(ticks=np.arange(len(cm.columns)), labels=cm.columns, fontsize=12)\n",
    "plt.yticks(ticks=np.arange(len(cm.index)), labels=cm.index, fontsize=12)\n",
    "plt.xlabel('Predicted', fontsize=14)\n",
    "plt.ylabel('Actual', fontsize=14)\n",
    "plt.title('Confusion Matrix (Test)', fontsize=16)\n",
    "\n",
    "# Add text annotations\n",
    "for i in range(cm.shape[0]):\n",
    "    for j in range(cm.shape[1]):\n",
    "        plt.text(j, i, str(cm.iat[i, j]),\n",
    "                 ha='center', va='center',\n",
    "                 color='white' if cm.iat[i, j] > cm.values.max() / 2 else 'black',\n",
    "                 fontsize=12)\n",
    "\n",
    "plt.colorbar(label='Count')\n",
    "plt.tight_layout()\n",
    "plt.show()"
   ]
  },
  {
   "cell_type": "code",
   "execution_count": null,
   "id": "ac099e20",
   "metadata": {},
   "outputs": [],
   "source": []
  }
 ],
 "metadata": {
  "kernelspec": {
   "display_name": "tensorflowgpu",
   "language": "python",
   "name": "python3"
  },
  "language_info": {
   "codemirror_mode": {
    "name": "ipython",
    "version": 3
   },
   "file_extension": ".py",
   "mimetype": "text/x-python",
   "name": "python",
   "nbconvert_exporter": "python",
   "pygments_lexer": "ipython3",
   "version": "3.9.19"
  }
 },
 "nbformat": 4,
 "nbformat_minor": 5
}
