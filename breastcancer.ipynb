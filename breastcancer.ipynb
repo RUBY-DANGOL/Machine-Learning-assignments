{
 "cells": [
  {
   "cell_type": "code",
   "execution_count": 1,
   "id": "a01bc0be",
   "metadata": {},
   "outputs": [
    {
     "name": "stdout",
     "output_type": "stream",
     "text": [
      "Warning: Looks like you're using an outdated `kagglehub` version, please consider updating (latest version: 0.3.12)\n",
      "Downloading from https://www.kaggle.com/api/v1/datasets/download/merishnasuwal/breast-cancer-prediction-dataset?dataset_version_number=2...\n"
     ]
    },
    {
     "name": "stderr",
     "output_type": "stream",
     "text": [
      "100%|██████████| 7.92k/7.92k [00:00<00:00, 81.2kB/s]"
     ]
    },
    {
     "name": "stdout",
     "output_type": "stream",
     "text": [
      "Extracting files...\n",
      "Path to dataset files: C:\\Users\\acer\\.cache\\kagglehub\\datasets\\merishnasuwal\\breast-cancer-prediction-dataset\\versions\\2\n"
     ]
    },
    {
     "name": "stderr",
     "output_type": "stream",
     "text": [
      "\n"
     ]
    }
   ],
   "source": [
    "import kagglehub\n",
    "\n",
    "# Download latest version\n",
    "path = kagglehub.dataset_download(\"merishnasuwal/breast-cancer-prediction-dataset\")\n",
    "\n",
    "print(\"Path to dataset files:\", path)"
   ]
  },
  {
   "cell_type": "code",
   "execution_count": 2,
   "id": "f7e72754",
   "metadata": {},
   "outputs": [],
   "source": [
    "import pandas as pd\n",
    "import numpy as np\n",
    "\n",
    "# Load your data\n",
    "df = pd.read_csv(\"Breast_cancer_data.csv\")\n",
    "\n",
    "# Split into features and target\n",
    "X = df.drop('diagnosis', axis=1).values\n",
    "y = df['diagnosis'].values\n"
   ]
  },
  {
   "cell_type": "code",
   "execution_count": 3,
   "id": "bf651925",
   "metadata": {},
   "outputs": [],
   "source": [
    "# Shuffle and split (80% train, 20% test)\n",
    "np.random.seed(42)\n",
    "indices = np.random.permutation(len(X))\n",
    "split = int(0.8 * len(X))\n",
    "train_idx, test_idx = indices[:split], indices[split:]\n",
    "\n",
    "X_train, X_test = X[train_idx], X[test_idx]\n",
    "y_train, y_test = y[train_idx], y[test_idx]\n"
   ]
  },
  {
   "cell_type": "code",
   "execution_count": 4,
   "id": "776e0d24",
   "metadata": {},
   "outputs": [],
   "source": [
    "class GaussianNaiveBayes:\n",
    "    def fit(self, X, y):\n",
    "        self.classes = np.unique(y)\n",
    "        self.means = {}\n",
    "        self.vars = {}\n",
    "        self.priors = {}\n",
    "        for c in self.classes:\n",
    "            X_c = X[y == c]\n",
    "            self.means[c] = X_c.mean(axis=0)\n",
    "            self.vars[c] = X_c.var(axis=0) + 1e-9  # To avoid division by zero\n",
    "            self.priors[c] = X_c.shape[0] / X.shape[0]\n",
    "    \n",
    "    def gaussian_prob(self, class_idx, x):\n",
    "        mean = self.means[class_idx]\n",
    "        var = self.vars[class_idx]\n",
    "        numerator = np.exp(- (x - mean)**2 / (2 * var))\n",
    "        denominator = np.sqrt(2 * np.pi * var)\n",
    "        return numerator / denominator\n",
    "    \n",
    "    def predict(self, X):\n",
    "        y_pred = []\n",
    "        for x in X:\n",
    "            posteriors = []\n",
    "            for c in self.classes:\n",
    "                prior = np.log(self.priors[c])\n",
    "                conditional = np.sum(np.log(self.gaussian_prob(c, x)))\n",
    "                posterior = prior + conditional\n",
    "                posteriors.append(posterior)\n",
    "            y_pred.append(self.classes[np.argmax(posteriors)])\n",
    "        return np.array(y_pred)\n"
   ]
  },
  {
   "cell_type": "code",
   "execution_count": 5,
   "id": "8f458c50",
   "metadata": {},
   "outputs": [],
   "source": [
    "gnb = GaussianNaiveBayes()\n",
    "gnb.fit(X_train, y_train)\n",
    "y_pred = gnb.predict(X_test)\n"
   ]
  },
  {
   "cell_type": "code",
   "execution_count": 6,
   "id": "cd457adc",
   "metadata": {},
   "outputs": [
    {
     "name": "stdout",
     "output_type": "stream",
     "text": [
      "Accuracy: 82.46%\n",
      "Class 0: Precision: 0.86, Recall: 0.68, F1: 0.76\n",
      "Class 1: Precision: 0.81, Recall: 0.93, F1: 0.86\n"
     ]
    }
   ],
   "source": [
    "accuracy = np.mean(y_pred == y_test)\n",
    "print(f\"Accuracy: {accuracy * 100:.2f}%\")\n",
    "\n",
    "# Simple classification report\n",
    "def classification_report_manual(y_true, y_pred):\n",
    "    for label in np.unique(y_true):\n",
    "        tp = np.sum((y_pred == label) & (y_true == label))\n",
    "        fp = np.sum((y_pred == label) & (y_true != label))\n",
    "        fn = np.sum((y_pred != label) & (y_true == label))\n",
    "        precision = tp / (tp + fp) if (tp + fp) > 0 else 0\n",
    "        recall = tp / (tp + fn) if (tp + fn) > 0 else 0\n",
    "        f1 = 2 * precision * recall / (precision + recall) if (precision + recall) > 0 else 0\n",
    "        print(f\"Class {label}: Precision: {precision:.2f}, Recall: {recall:.2f}, F1: {f1:.2f}\")\n",
    "\n",
    "classification_report_manual(y_test, y_pred)\n"
   ]
  },
  {
   "cell_type": "code",
   "execution_count": 7,
   "id": "f5d61e45",
   "metadata": {},
   "outputs": [],
   "source": [
    "import pickle\n",
    "\n",
    "# Save the model to a file\n",
    "with open(\"gnb_model.pkl\", \"wb\") as f:\n",
    "    pickle.dump(gnb, f)\n"
   ]
  },
  {
   "cell_type": "code",
   "execution_count": 8,
   "id": "8959fddd",
   "metadata": {},
   "outputs": [],
   "source": [
    "import pickle\n",
    "\n",
    "# Load the saved model\n",
    "with open('gnb_model.pkl', 'rb') as f:\n",
    "    loaded_gnb = pickle.load(f)\n"
   ]
  },
  {
   "cell_type": "code",
   "execution_count": 9,
   "id": "f64abb67",
   "metadata": {},
   "outputs": [],
   "source": [
    "# Predict on test data (assuming X_test is available)\n",
    "y_pred = loaded_gnb.predict(X_test)\n"
   ]
  },
  {
   "cell_type": "code",
   "execution_count": 10,
   "id": "372532d1",
   "metadata": {},
   "outputs": [],
   "source": [
    "# Predict on test data (assuming X_test is available)\n",
    "y_pred = loaded_gnb.predict(X_test)\n"
   ]
  },
  {
   "cell_type": "code",
   "execution_count": 11,
   "id": "56535dd6",
   "metadata": {},
   "outputs": [
    {
     "name": "stdout",
     "output_type": "stream",
     "text": [
      "Test Accuracy: 82.46%\n",
      "Class 0: Precision: 0.86, Recall: 0.68, F1: 0.76\n",
      "Class 1: Precision: 0.81, Recall: 0.93, F1: 0.86\n"
     ]
    }
   ],
   "source": [
    "import numpy as np\n",
    "\n",
    "# Calculate accuracy\n",
    "accuracy = np.mean(y_pred == y_test)\n",
    "print(f\"Test Accuracy: {accuracy * 100:.2f}%\")\n",
    "\n",
    "# Optional: Manual classification report\n",
    "def classification_report_manual(y_true, y_pred):\n",
    "    for label in np.unique(y_true):\n",
    "        tp = np.sum((y_pred == label) & (y_true == label))\n",
    "        fp = np.sum((y_pred == label) & (y_true != label))\n",
    "        fn = np.sum((y_pred != label) & (y_true == label))\n",
    "        precision = tp / (tp + fp) if (tp + fp) > 0 else 0\n",
    "        recall = tp / (tp + fn) if (tp + fn) > 0 else 0\n",
    "        f1 = 2 * precision * recall / (precision + recall) if (precision + recall) > 0 else 0\n",
    "        print(f\"Class {label}: Precision: {precision:.2f}, Recall: {recall:.2f}, F1: {f1:.2f}\")\n",
    "\n",
    "classification_report_manual(y_test, y_pred)\n"
   ]
  },
  {
   "cell_type": "code",
   "execution_count": 14,
   "id": "c0aaee3a",
   "metadata": {},
   "outputs": [
    {
     "name": "stdout",
     "output_type": "stream",
     "text": [
      "You do not have breast cancer.\n"
     ]
    }
   ],
   "source": [
    "# Example: new_sample is a numpy array with shape (number_of_features,)\n",
    "new_sample = np.array([[18, 11, 130, 1000, 0.12]])\n",
    "label_map = {0: \"You do not have breast cancer.\", 1: \"Please contact your doctor.\"}\n",
    "prediction = loaded_gnb.predict(new_sample)\n",
    "print(label_map[prediction[0]])\n"
   ]
  },
  {
   "cell_type": "code",
   "execution_count": 15,
   "id": "74efaeeb",
   "metadata": {},
   "outputs": [
    {
     "data": {
      "image/png": "[encoded data removed]",
      "text/plain": [
       "<Figure size 640x480 with 2 Axes>"
      ]
     },
     "metadata": {},
     "output_type": "display_data"
    }
   ],
   "source": [
    "import matplotlib.pyplot as plt\n",
    "import numpy as np\n",
    "\n",
    "# y_test and y_pred should be your true and predicted labels\n",
    "\n",
    "# Create confusion matrix\n",
    "def plot_confusion_matrix(y_true, y_pred, labels, title=\"Confusion Matrix\"):\n",
    "    cm = np.zeros((2, 2), dtype=int)\n",
    "    for t, p in zip(y_true, y_pred):\n",
    "        cm[int(t)][int(p)] += 1\n",
    "\n",
    "    fig, ax = plt.subplots()\n",
    "    im = ax.imshow(cm, cmap=\"Blues\")\n",
    "\n",
    "    ax.set_xticks(np.arange(len(labels)))\n",
    "    ax.set_yticks(np.arange(len(labels)))\n",
    "    ax.set_xticklabels(labels)\n",
    "    ax.set_yticklabels(labels)\n",
    "    plt.xlabel(\"Predicted Label\")\n",
    "    plt.ylabel(\"True Label\")\n",
    "    plt.title(title)\n",
    "\n",
    "    # Add numbers in each cell\n",
    "    for i in range(2):\n",
    "        for j in range(2):\n",
    "            ax.text(j, i, cm[i, j], ha=\"center\", va=\"center\", color=\"black\", fontsize=14)\n",
    "\n",
    "    plt.colorbar(im)\n",
    "    plt.show()\n",
    "\n",
    "labels = [\"No Cancer\", \"Contact Doctor\"]\n",
    "plot_confusion_matrix(y_test, y_pred, labels)\n"
   ]
  },
  {
   "cell_type": "code",
   "execution_count": 16,
   "id": "c44fc592",
   "metadata": {},
   "outputs": [],
   "source": [
    "# Predict on training set\n",
    "y_train_pred = loaded_gnb.predict(X_train)\n",
    "\n",
    "# Predict on test set\n",
    "y_test_pred = loaded_gnb.predict(X_test)\n"
   ]
  },
  {
   "cell_type": "code",
   "execution_count": 17,
   "id": "08d82672",
   "metadata": {},
   "outputs": [
    {
     "name": "stdout",
     "output_type": "stream",
     "text": [
      "Training Accuracy: 92.75%\n",
      "Test Accuracy: 82.46%\n"
     ]
    }
   ],
   "source": [
    "# Accuracy on training data\n",
    "train_accuracy = np.mean(y_train_pred == y_train)\n",
    "print(f\"Training Accuracy: {train_accuracy * 100:.2f}%\")\n",
    "\n",
    "# Accuracy on test data\n",
    "test_accuracy = np.mean(y_test_pred == y_test)\n",
    "print(f\"Test Accuracy: {test_accuracy * 100:.2f}%\")\n"
   ]
  },
  {
   "cell_type": "code",
   "execution_count": 18,
   "id": "4afc5e95",
   "metadata": {},
   "outputs": [
    {
     "data": {
      "image/png": "[encoded data removed]",
      "text/plain": [
       "<Figure size 640x480 with 1 Axes>"
      ]
     },
     "metadata": {},
     "output_type": "display_data"
    }
   ],
   "source": [
    "import matplotlib.pyplot as plt\n",
    "\n",
    "plt.bar(['Train', 'Test'], [train_accuracy, test_accuracy], color=['skyblue', 'salmon'])\n",
    "plt.ylabel('Accuracy')\n",
    "plt.title('Train vs Test Accuracy')\n",
    "plt.ylim(0, 1)\n",
    "plt.show()\n"
   ]
  },
  {
   "cell_type": "code",
   "execution_count": 19,
   "id": "752dde6f",
   "metadata": {},
   "outputs": [
    {
     "data": {
      "image/png": "[encoded data removed]",
      "text/plain": [
       "<Figure size 640x480 with 1 Axes>"
      ]
     },
     "metadata": {},
     "output_type": "display_data"
    }
   ],
   "source": [
    "import numpy as np\n",
    "import matplotlib.pyplot as plt\n",
    "\n",
    "train_sizes = np.linspace(0.1, 1.0, 10)\n",
    "train_accuracies = []\n",
    "test_accuracies = []\n",
    "\n",
    "for frac in train_sizes:\n",
    "    # Subset the training data\n",
    "    size = int(frac * len(X_train))\n",
    "    X_sub = X_train[:size]\n",
    "    y_sub = y_train[:size]\n",
    "    \n",
    "    # Re-train a new model on this subset\n",
    "    model = GaussianNaiveBayes()\n",
    "    model.fit(X_sub, y_sub)\n",
    "    \n",
    "    # Train accuracy\n",
    "    y_sub_pred = model.predict(X_sub)\n",
    "    train_acc = np.mean(y_sub_pred == y_sub)\n",
    "    train_accuracies.append(train_acc)\n",
    "    \n",
    "    # Test accuracy\n",
    "    y_test_pred = model.predict(X_test)\n",
    "    test_acc = np.mean(y_test_pred == y_test)\n",
    "    test_accuracies.append(test_acc)\n",
    "\n",
    "# Plot the learning curve\n",
    "plt.plot(train_sizes * 100, train_accuracies, marker='o', label='Train Accuracy')\n",
    "plt.plot(train_sizes * 100, test_accuracies, marker='s', label='Test Accuracy')\n",
    "plt.xlabel(\"Training Set Size (%)\")\n",
    "plt.ylabel(\"Accuracy\")\n",
    "plt.title(\"Accuracy Curve (Learning Curve)\")\n",
    "plt.legend()\n",
    "plt.ylim(0, 1.05)\n",
    "plt.grid(True)\n",
    "plt.show()\n"
   ]
  },
  {
   "cell_type": "code",
   "execution_count": null,
   "id": "82114d49",
   "metadata": {},
   "outputs": [],
   "source": []
  }
 ],
 "metadata": {
  "kernelspec": {
   "display_name": "tensorflowgpu",
   "language": "python",
   "name": "python3"
  },
  "language_info": {
   "codemirror_mode": {
    "name": "ipython",
    "version": 3
   },
   "file_extension": ".py",
   "mimetype": "text/x-python",
   "name": "python",
   "nbconvert_exporter": "python",
   "pygments_lexer": "ipython3",
   "version": "3.9.19"
  }
 },
 "nbformat": 4,
 "nbformat_minor": 5
}
